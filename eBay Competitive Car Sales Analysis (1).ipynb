{
 "cells": [
  {
   "cell_type": "markdown",
   "metadata": {
    "collapsed": true
   },
   "source": [
    "# Helping Johann with eBay Car Sales Data\n",
    "\n",
    "Johann Autoverkäufer is a serial entrepreneur that wants to get into the automotive world and has decided to open a second-hand car showroom in Germany. Johann hired us and said that he is still in his early stages, so he needs to understand the market first before building any inventory.\n",
    "\n",
    "We don't know about his competitors, but we are aware that eBay Kleinanzeigen, the car used section of the German eBay website, is fairly popular, and extracting the data from it is easier than from other private selling competitors. \n",
    "\n",
    "After some research we are lucky to find a scraped dataset of 50,000 datapoints from https://data.world/data-society/used-cars-data. We will analyze the data using pandas and provide helpful insights for Johann."
   ]
  },
  {
   "cell_type": "markdown",
   "metadata": {},
   "source": [
    "## 1. Importing the database and transforming it into a dataframe"
   ]
  },
  {
   "cell_type": "markdown",
   "metadata": {},
   "source": [
    "The data that we found is in a csv file. In order to analyze and provide the best insights out of it we need to convert it into a dataframe (table format) which will provide us with a structure that is much easier to analyze and in which the results will be much more visual.\n",
    "\n",
    "We start by reading the csv file with pandas."
   ]
  },
  {
   "cell_type": "code",
   "execution_count": 1,
   "metadata": {
    "scrolled": true
   },
   "outputs": [],
   "source": [
    "import pandas as pd\n",
    "\n",
    "autos = pd.read_csv(\"autos.csv\", encoding = \"Latin-1\")\n",
    "\n",
    "# We used \"Latin-1\" encoding because the default \"UTF-8\" gave us an error\n",
    "# meaning that it is not decoded as \"UTF-8\""
   ]
  },
  {
   "cell_type": "markdown",
   "metadata": {},
   "source": [
    "We continue by exploring what kind of information we have in our newly created \"autos\" dataframe"
   ]
  },
  {
   "cell_type": "code",
   "execution_count": 2,
   "metadata": {},
   "outputs": [
    {
     "name": "stdout",
     "output_type": "stream",
     "text": [
      "<class 'pandas.core.frame.DataFrame'>\n",
      "RangeIndex: 50000 entries, 0 to 49999\n",
      "Data columns (total 20 columns):\n",
      " #   Column               Non-Null Count  Dtype \n",
      "---  ------               --------------  ----- \n",
      " 0   dateCrawled          50000 non-null  object\n",
      " 1   name                 50000 non-null  object\n",
      " 2   seller               50000 non-null  object\n",
      " 3   offerType            50000 non-null  object\n",
      " 4   price                50000 non-null  object\n",
      " 5   abtest               50000 non-null  object\n",
      " 6   vehicleType          44905 non-null  object\n",
      " 7   yearOfRegistration   50000 non-null  int64 \n",
      " 8   gearbox              47320 non-null  object\n",
      " 9   powerPS              50000 non-null  int64 \n",
      " 10  model                47242 non-null  object\n",
      " 11  odometer             50000 non-null  object\n",
      " 12  monthOfRegistration  50000 non-null  int64 \n",
      " 13  fuelType             45518 non-null  object\n",
      " 14  brand                50000 non-null  object\n",
      " 15  notRepairedDamage    40171 non-null  object\n",
      " 16  dateCreated          50000 non-null  object\n",
      " 17  nrOfPictures         50000 non-null  int64 \n",
      " 18  postalCode           50000 non-null  int64 \n",
      " 19  lastSeen             50000 non-null  object\n",
      "dtypes: int64(5), object(15)\n",
      "memory usage: 7.6+ MB\n"
     ]
    }
   ],
   "source": [
    "autos.info()"
   ]
  },
  {
   "cell_type": "code",
   "execution_count": 3,
   "metadata": {},
   "outputs": [
    {
     "name": "stdout",
     "output_type": "stream",
     "text": [
      "           dateCrawled                                               name  \\\n",
      "0  2016-03-26 17:47:46                   Peugeot_807_160_NAVTECH_ON_BOARD   \n",
      "1  2016-04-04 13:38:56         BMW_740i_4_4_Liter_HAMANN_UMBAU_Mega_Optik   \n",
      "2  2016-03-26 18:57:24                         Volkswagen_Golf_1.6_United   \n",
      "3  2016-03-12 16:58:10  Smart_smart_fortwo_coupe_softouch/F1/Klima/Pan...   \n",
      "4  2016-04-01 14:38:50  Ford_Focus_1_6_Benzin_TÜV_neu_ist_sehr_gepfleg...   \n",
      "\n",
      "   seller offerType   price   abtest vehicleType  yearOfRegistration  \\\n",
      "0  privat   Angebot  $5,000  control         bus                2004   \n",
      "1  privat   Angebot  $8,500  control   limousine                1997   \n",
      "2  privat   Angebot  $8,990     test   limousine                2009   \n",
      "3  privat   Angebot  $4,350  control  kleinwagen                2007   \n",
      "4  privat   Angebot  $1,350     test       kombi                2003   \n",
      "\n",
      "     gearbox  powerPS   model   odometer  monthOfRegistration fuelType  \\\n",
      "0    manuell      158  andere  150,000km                    3      lpg   \n",
      "1  automatik      286     7er  150,000km                    6   benzin   \n",
      "2    manuell      102    golf   70,000km                    7   benzin   \n",
      "3  automatik       71  fortwo   70,000km                    6   benzin   \n",
      "4    manuell        0   focus  150,000km                    7   benzin   \n",
      "\n",
      "        brand notRepairedDamage          dateCreated  nrOfPictures  \\\n",
      "0     peugeot              nein  2016-03-26 00:00:00             0   \n",
      "1         bmw              nein  2016-04-04 00:00:00             0   \n",
      "2  volkswagen              nein  2016-03-26 00:00:00             0   \n",
      "3       smart              nein  2016-03-12 00:00:00             0   \n",
      "4        ford              nein  2016-04-01 00:00:00             0   \n",
      "\n",
      "   postalCode             lastSeen  \n",
      "0       79588  2016-04-06 06:45:54  \n",
      "1       71034  2016-04-06 14:45:08  \n",
      "2       35394  2016-04-06 20:15:37  \n",
      "3       33729  2016-03-15 03:16:28  \n",
      "4       39218  2016-04-01 14:38:50  \n"
     ]
    }
   ],
   "source": [
    "first_lines_autos = autos.head()\n",
    "print(first_lines_autos)"
   ]
  },
  {
   "cell_type": "markdown",
   "metadata": {},
   "source": [
    "### 1.1 Initial Observations\n",
    "\n",
    "#### We have 20 columns and 50.000 rows. At a first glance we can observe several things that might affect our analysis:\n",
    "\n",
    "- There are several models, gearbox types and vehicle types missing. This could indicate, perhaps, that there are some vehicle parts also listed\n",
    "\n",
    "\n",
    "- Missing values in fuel type could mean vehicles being sold without engine\n",
    "\n",
    "\n",
    "- We also need to be careful with the missing values of notRepairedDamage. Does this mean that there is no damage, or that if there is damage is not repaired?\n",
    "\n",
    "\n",
    "- One final interesting point is that the first 5 rows show 0 pictures. We might see patterns between vehicles with and without pictures\n"
   ]
  },
  {
   "cell_type": "markdown",
   "metadata": {},
   "source": [
    "### 1.2 Format and readibility\n",
    "\n",
    "We are going to be constantly making observations on the dataframe, so it is better if we make the data more readable. \n",
    "\n",
    "Right now, the notations in the column are camel case (written without spaces, with capital letter for each initial letter: \"camelCase\"). Code is generally more readable in snake case, with underscores as spaces and lower letters: \"snake_case\".\n",
    "\n",
    "Let's rename the columns accordingly:"
   ]
  },
  {
   "cell_type": "code",
   "execution_count": 4,
   "metadata": {},
   "outputs": [],
   "source": [
    "autos.rename({\"dateCrawled\" : \"date_crawled\"}, axis = 1, inplace = True)\n",
    "autos.rename({\"offerType\" : \"offer_type\"}, axis = 1, inplace = True)\n",
    "autos.rename({\"vehicleType\" : \"vehicle_type\"}, axis = 1, inplace = True)\n",
    "autos.rename({\"yearOfRegistration\" : \"registration_year\"}, axis = 1, inplace = True)\n",
    "autos.rename({\"powerPS\" : \"power_ps\"}, axis = 1, inplace = True)\n",
    "autos.rename({\"monthOfRegistration\" : \"registration_month\"}, axis = 1, inplace = True)\n",
    "autos.rename({\"fuelType\" : \"fuel_type\"}, axis = 1, inplace = True)\n",
    "autos.rename({\"notRepairedDamage\" : \"unrepaired_damage\"}, axis = 1, inplace = True)\n",
    "autos.rename({\"dateCreated\" : \"ad_created\"}, axis = 1, inplace = True)\n",
    "autos.rename({\"nrOfPictures\" : \"nr_pictures\"}, axis = 1, inplace = True)\n",
    "autos.rename({\"postalCode\" : \"postal_code\"}, axis = 1, inplace = True)\n",
    "autos.rename({\"lastSeen\" : \"last_seen\"}, axis = 1, inplace = True)\n"
   ]
  },
  {
   "cell_type": "markdown",
   "metadata": {},
   "source": [
    "Now if we examine the first five rows again we can see the result:"
   ]
  },
  {
   "cell_type": "code",
   "execution_count": 5,
   "metadata": {},
   "outputs": [
    {
     "name": "stdout",
     "output_type": "stream",
     "text": [
      "          date_crawled                                               name  \\\n",
      "0  2016-03-26 17:47:46                   Peugeot_807_160_NAVTECH_ON_BOARD   \n",
      "1  2016-04-04 13:38:56         BMW_740i_4_4_Liter_HAMANN_UMBAU_Mega_Optik   \n",
      "2  2016-03-26 18:57:24                         Volkswagen_Golf_1.6_United   \n",
      "3  2016-03-12 16:58:10  Smart_smart_fortwo_coupe_softouch/F1/Klima/Pan...   \n",
      "4  2016-04-01 14:38:50  Ford_Focus_1_6_Benzin_TÜV_neu_ist_sehr_gepfleg...   \n",
      "5  2016-03-21 13:47:45  Chrysler_Grand_Voyager_2.8_CRD_Aut.Limited_Sto...   \n",
      "6  2016-03-20 17:55:21  VW_Golf_III_GT_Special_Electronic_Green_Metall...   \n",
      "7  2016-03-16 18:55:19                               Golf_IV_1.9_TDI_90PS   \n",
      "8  2016-03-22 16:51:34                                         Seat_Arosa   \n",
      "9  2016-03-16 13:47:02          Renault_Megane_Scenic_1.6e_RT_Klimaanlage   \n",
      "\n",
      "   seller offer_type   price   abtest vehicle_type  registration_year  \\\n",
      "0  privat    Angebot  $5,000  control          bus               2004   \n",
      "1  privat    Angebot  $8,500  control    limousine               1997   \n",
      "2  privat    Angebot  $8,990     test    limousine               2009   \n",
      "3  privat    Angebot  $4,350  control   kleinwagen               2007   \n",
      "4  privat    Angebot  $1,350     test        kombi               2003   \n",
      "5  privat    Angebot  $7,900     test          bus               2006   \n",
      "6  privat    Angebot    $300     test    limousine               1995   \n",
      "7  privat    Angebot  $1,990  control    limousine               1998   \n",
      "8  privat    Angebot    $250     test          NaN               2000   \n",
      "9  privat    Angebot    $590  control          bus               1997   \n",
      "\n",
      "     gearbox  power_ps    model   odometer  registration_month fuel_type  \\\n",
      "0    manuell       158   andere  150,000km                   3       lpg   \n",
      "1  automatik       286      7er  150,000km                   6    benzin   \n",
      "2    manuell       102     golf   70,000km                   7    benzin   \n",
      "3  automatik        71   fortwo   70,000km                   6    benzin   \n",
      "4    manuell         0    focus  150,000km                   7    benzin   \n",
      "5  automatik       150  voyager  150,000km                   4    diesel   \n",
      "6    manuell        90     golf  150,000km                   8    benzin   \n",
      "7    manuell        90     golf  150,000km                  12    diesel   \n",
      "8    manuell         0    arosa  150,000km                  10       NaN   \n",
      "9    manuell        90   megane  150,000km                   7    benzin   \n",
      "\n",
      "        brand unrepaired_damage           ad_created  nr_pictures  \\\n",
      "0     peugeot              nein  2016-03-26 00:00:00            0   \n",
      "1         bmw              nein  2016-04-04 00:00:00            0   \n",
      "2  volkswagen              nein  2016-03-26 00:00:00            0   \n",
      "3       smart              nein  2016-03-12 00:00:00            0   \n",
      "4        ford              nein  2016-04-01 00:00:00            0   \n",
      "5    chrysler               NaN  2016-03-21 00:00:00            0   \n",
      "6  volkswagen               NaN  2016-03-20 00:00:00            0   \n",
      "7  volkswagen              nein  2016-03-16 00:00:00            0   \n",
      "8        seat              nein  2016-03-22 00:00:00            0   \n",
      "9     renault              nein  2016-03-16 00:00:00            0   \n",
      "\n",
      "   postal_code            last_seen  \n",
      "0        79588  2016-04-06 06:45:54  \n",
      "1        71034  2016-04-06 14:45:08  \n",
      "2        35394  2016-04-06 20:15:37  \n",
      "3        33729  2016-03-15 03:16:28  \n",
      "4        39218  2016-04-01 14:38:50  \n",
      "5        22962  2016-04-06 09:45:21  \n",
      "6        31535  2016-03-23 02:48:59  \n",
      "7        53474  2016-04-07 03:17:32  \n",
      "8         7426  2016-03-26 18:18:10  \n",
      "9        15749  2016-04-06 10:46:35  \n"
     ]
    }
   ],
   "source": [
    "print(autos.head(10))"
   ]
  },
  {
   "cell_type": "markdown",
   "metadata": {},
   "source": [
    "We changed the format to snake case, and this has improved readibility and brought much more consistency to the column names. Among the changes, we have also replaced some titles to sound easier to understand, such as:\n",
    "\n",
    "- yearOfRegistration and monthOfRegistration by registration_year and registration_month\n",
    "- notRepairedDamage by unrepaired_damage\n",
    "- dateCreated by ad_created\n",
    "- nrOfPictures by nr_pictures\n",
    "\n",
    "Now that the format is more clear we can proceed with our analysis."
   ]
  },
  {
   "cell_type": "markdown",
   "metadata": {},
   "source": [
    "### 1.3 Exploring the data - Observations\n",
    "\n",
    "We start our analysis by looking at our data more in depth. We will be using a very useful function in pandas that will also give us basic statistics on our database. This will help us assess if there is any data cleaning or formatting needed."
   ]
  },
  {
   "cell_type": "code",
   "execution_count": 6,
   "metadata": {
    "scrolled": true
   },
   "outputs": [
    {
     "data": {
      "text/html": [
       "<div>\n",
       "<style scoped>\n",
       "    .dataframe tbody tr th:only-of-type {\n",
       "        vertical-align: middle;\n",
       "    }\n",
       "\n",
       "    .dataframe tbody tr th {\n",
       "        vertical-align: top;\n",
       "    }\n",
       "\n",
       "    .dataframe thead th {\n",
       "        text-align: right;\n",
       "    }\n",
       "</style>\n",
       "<table border=\"1\" class=\"dataframe\">\n",
       "  <thead>\n",
       "    <tr style=\"text-align: right;\">\n",
       "      <th></th>\n",
       "      <th>date_crawled</th>\n",
       "      <th>name</th>\n",
       "      <th>seller</th>\n",
       "      <th>offer_type</th>\n",
       "      <th>price</th>\n",
       "      <th>abtest</th>\n",
       "      <th>vehicle_type</th>\n",
       "      <th>registration_year</th>\n",
       "      <th>gearbox</th>\n",
       "      <th>power_ps</th>\n",
       "      <th>model</th>\n",
       "      <th>odometer</th>\n",
       "      <th>registration_month</th>\n",
       "      <th>fuel_type</th>\n",
       "      <th>brand</th>\n",
       "      <th>unrepaired_damage</th>\n",
       "      <th>ad_created</th>\n",
       "      <th>nr_pictures</th>\n",
       "      <th>postal_code</th>\n",
       "      <th>last_seen</th>\n",
       "    </tr>\n",
       "  </thead>\n",
       "  <tbody>\n",
       "    <tr>\n",
       "      <th>count</th>\n",
       "      <td>50000</td>\n",
       "      <td>50000</td>\n",
       "      <td>50000</td>\n",
       "      <td>50000</td>\n",
       "      <td>50000</td>\n",
       "      <td>50000</td>\n",
       "      <td>44905</td>\n",
       "      <td>50000.000000</td>\n",
       "      <td>47320</td>\n",
       "      <td>50000.000000</td>\n",
       "      <td>47242</td>\n",
       "      <td>50000</td>\n",
       "      <td>50000.000000</td>\n",
       "      <td>45518</td>\n",
       "      <td>50000</td>\n",
       "      <td>40171</td>\n",
       "      <td>50000</td>\n",
       "      <td>50000.0</td>\n",
       "      <td>50000.000000</td>\n",
       "      <td>50000</td>\n",
       "    </tr>\n",
       "    <tr>\n",
       "      <th>unique</th>\n",
       "      <td>48213</td>\n",
       "      <td>38754</td>\n",
       "      <td>2</td>\n",
       "      <td>2</td>\n",
       "      <td>2357</td>\n",
       "      <td>2</td>\n",
       "      <td>8</td>\n",
       "      <td>NaN</td>\n",
       "      <td>2</td>\n",
       "      <td>NaN</td>\n",
       "      <td>245</td>\n",
       "      <td>13</td>\n",
       "      <td>NaN</td>\n",
       "      <td>7</td>\n",
       "      <td>40</td>\n",
       "      <td>2</td>\n",
       "      <td>76</td>\n",
       "      <td>NaN</td>\n",
       "      <td>NaN</td>\n",
       "      <td>39481</td>\n",
       "    </tr>\n",
       "    <tr>\n",
       "      <th>top</th>\n",
       "      <td>2016-03-27 22:55:05</td>\n",
       "      <td>Ford_Fiesta</td>\n",
       "      <td>privat</td>\n",
       "      <td>Angebot</td>\n",
       "      <td>$0</td>\n",
       "      <td>test</td>\n",
       "      <td>limousine</td>\n",
       "      <td>NaN</td>\n",
       "      <td>manuell</td>\n",
       "      <td>NaN</td>\n",
       "      <td>golf</td>\n",
       "      <td>150,000km</td>\n",
       "      <td>NaN</td>\n",
       "      <td>benzin</td>\n",
       "      <td>volkswagen</td>\n",
       "      <td>nein</td>\n",
       "      <td>2016-04-03 00:00:00</td>\n",
       "      <td>NaN</td>\n",
       "      <td>NaN</td>\n",
       "      <td>2016-04-07 06:17:27</td>\n",
       "    </tr>\n",
       "    <tr>\n",
       "      <th>freq</th>\n",
       "      <td>3</td>\n",
       "      <td>78</td>\n",
       "      <td>49999</td>\n",
       "      <td>49999</td>\n",
       "      <td>1421</td>\n",
       "      <td>25756</td>\n",
       "      <td>12859</td>\n",
       "      <td>NaN</td>\n",
       "      <td>36993</td>\n",
       "      <td>NaN</td>\n",
       "      <td>4024</td>\n",
       "      <td>32424</td>\n",
       "      <td>NaN</td>\n",
       "      <td>30107</td>\n",
       "      <td>10687</td>\n",
       "      <td>35232</td>\n",
       "      <td>1946</td>\n",
       "      <td>NaN</td>\n",
       "      <td>NaN</td>\n",
       "      <td>8</td>\n",
       "    </tr>\n",
       "    <tr>\n",
       "      <th>mean</th>\n",
       "      <td>NaN</td>\n",
       "      <td>NaN</td>\n",
       "      <td>NaN</td>\n",
       "      <td>NaN</td>\n",
       "      <td>NaN</td>\n",
       "      <td>NaN</td>\n",
       "      <td>NaN</td>\n",
       "      <td>2005.073280</td>\n",
       "      <td>NaN</td>\n",
       "      <td>116.355920</td>\n",
       "      <td>NaN</td>\n",
       "      <td>NaN</td>\n",
       "      <td>5.723360</td>\n",
       "      <td>NaN</td>\n",
       "      <td>NaN</td>\n",
       "      <td>NaN</td>\n",
       "      <td>NaN</td>\n",
       "      <td>0.0</td>\n",
       "      <td>50813.627300</td>\n",
       "      <td>NaN</td>\n",
       "    </tr>\n",
       "    <tr>\n",
       "      <th>std</th>\n",
       "      <td>NaN</td>\n",
       "      <td>NaN</td>\n",
       "      <td>NaN</td>\n",
       "      <td>NaN</td>\n",
       "      <td>NaN</td>\n",
       "      <td>NaN</td>\n",
       "      <td>NaN</td>\n",
       "      <td>105.712813</td>\n",
       "      <td>NaN</td>\n",
       "      <td>209.216627</td>\n",
       "      <td>NaN</td>\n",
       "      <td>NaN</td>\n",
       "      <td>3.711984</td>\n",
       "      <td>NaN</td>\n",
       "      <td>NaN</td>\n",
       "      <td>NaN</td>\n",
       "      <td>NaN</td>\n",
       "      <td>0.0</td>\n",
       "      <td>25779.747957</td>\n",
       "      <td>NaN</td>\n",
       "    </tr>\n",
       "    <tr>\n",
       "      <th>min</th>\n",
       "      <td>NaN</td>\n",
       "      <td>NaN</td>\n",
       "      <td>NaN</td>\n",
       "      <td>NaN</td>\n",
       "      <td>NaN</td>\n",
       "      <td>NaN</td>\n",
       "      <td>NaN</td>\n",
       "      <td>1000.000000</td>\n",
       "      <td>NaN</td>\n",
       "      <td>0.000000</td>\n",
       "      <td>NaN</td>\n",
       "      <td>NaN</td>\n",
       "      <td>0.000000</td>\n",
       "      <td>NaN</td>\n",
       "      <td>NaN</td>\n",
       "      <td>NaN</td>\n",
       "      <td>NaN</td>\n",
       "      <td>0.0</td>\n",
       "      <td>1067.000000</td>\n",
       "      <td>NaN</td>\n",
       "    </tr>\n",
       "    <tr>\n",
       "      <th>25%</th>\n",
       "      <td>NaN</td>\n",
       "      <td>NaN</td>\n",
       "      <td>NaN</td>\n",
       "      <td>NaN</td>\n",
       "      <td>NaN</td>\n",
       "      <td>NaN</td>\n",
       "      <td>NaN</td>\n",
       "      <td>1999.000000</td>\n",
       "      <td>NaN</td>\n",
       "      <td>70.000000</td>\n",
       "      <td>NaN</td>\n",
       "      <td>NaN</td>\n",
       "      <td>3.000000</td>\n",
       "      <td>NaN</td>\n",
       "      <td>NaN</td>\n",
       "      <td>NaN</td>\n",
       "      <td>NaN</td>\n",
       "      <td>0.0</td>\n",
       "      <td>30451.000000</td>\n",
       "      <td>NaN</td>\n",
       "    </tr>\n",
       "    <tr>\n",
       "      <th>50%</th>\n",
       "      <td>NaN</td>\n",
       "      <td>NaN</td>\n",
       "      <td>NaN</td>\n",
       "      <td>NaN</td>\n",
       "      <td>NaN</td>\n",
       "      <td>NaN</td>\n",
       "      <td>NaN</td>\n",
       "      <td>2003.000000</td>\n",
       "      <td>NaN</td>\n",
       "      <td>105.000000</td>\n",
       "      <td>NaN</td>\n",
       "      <td>NaN</td>\n",
       "      <td>6.000000</td>\n",
       "      <td>NaN</td>\n",
       "      <td>NaN</td>\n",
       "      <td>NaN</td>\n",
       "      <td>NaN</td>\n",
       "      <td>0.0</td>\n",
       "      <td>49577.000000</td>\n",
       "      <td>NaN</td>\n",
       "    </tr>\n",
       "    <tr>\n",
       "      <th>75%</th>\n",
       "      <td>NaN</td>\n",
       "      <td>NaN</td>\n",
       "      <td>NaN</td>\n",
       "      <td>NaN</td>\n",
       "      <td>NaN</td>\n",
       "      <td>NaN</td>\n",
       "      <td>NaN</td>\n",
       "      <td>2008.000000</td>\n",
       "      <td>NaN</td>\n",
       "      <td>150.000000</td>\n",
       "      <td>NaN</td>\n",
       "      <td>NaN</td>\n",
       "      <td>9.000000</td>\n",
       "      <td>NaN</td>\n",
       "      <td>NaN</td>\n",
       "      <td>NaN</td>\n",
       "      <td>NaN</td>\n",
       "      <td>0.0</td>\n",
       "      <td>71540.000000</td>\n",
       "      <td>NaN</td>\n",
       "    </tr>\n",
       "    <tr>\n",
       "      <th>max</th>\n",
       "      <td>NaN</td>\n",
       "      <td>NaN</td>\n",
       "      <td>NaN</td>\n",
       "      <td>NaN</td>\n",
       "      <td>NaN</td>\n",
       "      <td>NaN</td>\n",
       "      <td>NaN</td>\n",
       "      <td>9999.000000</td>\n",
       "      <td>NaN</td>\n",
       "      <td>17700.000000</td>\n",
       "      <td>NaN</td>\n",
       "      <td>NaN</td>\n",
       "      <td>12.000000</td>\n",
       "      <td>NaN</td>\n",
       "      <td>NaN</td>\n",
       "      <td>NaN</td>\n",
       "      <td>NaN</td>\n",
       "      <td>0.0</td>\n",
       "      <td>99998.000000</td>\n",
       "      <td>NaN</td>\n",
       "    </tr>\n",
       "  </tbody>\n",
       "</table>\n",
       "</div>"
      ],
      "text/plain": [
       "               date_crawled         name  seller offer_type  price abtest  \\\n",
       "count                 50000        50000   50000      50000  50000  50000   \n",
       "unique                48213        38754       2          2   2357      2   \n",
       "top     2016-03-27 22:55:05  Ford_Fiesta  privat    Angebot     $0   test   \n",
       "freq                      3           78   49999      49999   1421  25756   \n",
       "mean                    NaN          NaN     NaN        NaN    NaN    NaN   \n",
       "std                     NaN          NaN     NaN        NaN    NaN    NaN   \n",
       "min                     NaN          NaN     NaN        NaN    NaN    NaN   \n",
       "25%                     NaN          NaN     NaN        NaN    NaN    NaN   \n",
       "50%                     NaN          NaN     NaN        NaN    NaN    NaN   \n",
       "75%                     NaN          NaN     NaN        NaN    NaN    NaN   \n",
       "max                     NaN          NaN     NaN        NaN    NaN    NaN   \n",
       "\n",
       "       vehicle_type  registration_year  gearbox      power_ps  model  \\\n",
       "count         44905       50000.000000    47320  50000.000000  47242   \n",
       "unique            8                NaN        2           NaN    245   \n",
       "top       limousine                NaN  manuell           NaN   golf   \n",
       "freq          12859                NaN    36993           NaN   4024   \n",
       "mean            NaN        2005.073280      NaN    116.355920    NaN   \n",
       "std             NaN         105.712813      NaN    209.216627    NaN   \n",
       "min             NaN        1000.000000      NaN      0.000000    NaN   \n",
       "25%             NaN        1999.000000      NaN     70.000000    NaN   \n",
       "50%             NaN        2003.000000      NaN    105.000000    NaN   \n",
       "75%             NaN        2008.000000      NaN    150.000000    NaN   \n",
       "max             NaN        9999.000000      NaN  17700.000000    NaN   \n",
       "\n",
       "         odometer  registration_month fuel_type       brand unrepaired_damage  \\\n",
       "count       50000        50000.000000     45518       50000             40171   \n",
       "unique         13                 NaN         7          40                 2   \n",
       "top     150,000km                 NaN    benzin  volkswagen              nein   \n",
       "freq        32424                 NaN     30107       10687             35232   \n",
       "mean          NaN            5.723360       NaN         NaN               NaN   \n",
       "std           NaN            3.711984       NaN         NaN               NaN   \n",
       "min           NaN            0.000000       NaN         NaN               NaN   \n",
       "25%           NaN            3.000000       NaN         NaN               NaN   \n",
       "50%           NaN            6.000000       NaN         NaN               NaN   \n",
       "75%           NaN            9.000000       NaN         NaN               NaN   \n",
       "max           NaN           12.000000       NaN         NaN               NaN   \n",
       "\n",
       "                 ad_created  nr_pictures   postal_code            last_seen  \n",
       "count                 50000      50000.0  50000.000000                50000  \n",
       "unique                   76          NaN           NaN                39481  \n",
       "top     2016-04-03 00:00:00          NaN           NaN  2016-04-07 06:17:27  \n",
       "freq                   1946          NaN           NaN                    8  \n",
       "mean                    NaN          0.0  50813.627300                  NaN  \n",
       "std                     NaN          0.0  25779.747957                  NaN  \n",
       "min                     NaN          0.0   1067.000000                  NaN  \n",
       "25%                     NaN          0.0  30451.000000                  NaN  \n",
       "50%                     NaN          0.0  49577.000000                  NaN  \n",
       "75%                     NaN          0.0  71540.000000                  NaN  \n",
       "max                     NaN          0.0  99998.000000                  NaN  "
      ]
     },
     "execution_count": 6,
     "metadata": {},
     "output_type": "execute_result"
    }
   ],
   "source": [
    "autos.describe(include='all')"
   ]
  },
  {
   "cell_type": "markdown",
   "metadata": {},
   "source": [
    "##### 1.3.1 Non Numeric Values"
   ]
  },
  {
   "cell_type": "markdown",
   "metadata": {},
   "source": [
    "We see 'price' and 'odometer' have NaN values in the numeric statistics, when they should be numbers. If we look up the autos.info method above we also see that this is stored as an object, which means the values are strings. \n",
    "\n",
    "This could mean that price has currency symbols in its values, and the odometer kilometer values. \n",
    "\n",
    "Let's see:"
   ]
  },
  {
   "cell_type": "code",
   "execution_count": 7,
   "metadata": {},
   "outputs": [
    {
     "name": "stdout",
     "output_type": "stream",
     "text": [
      "150,000km    32424\n",
      "125,000km     5170\n",
      "100,000km     2169\n",
      "90,000km      1757\n",
      "80,000km      1436\n",
      "70,000km      1230\n",
      "60,000km      1164\n",
      "50,000km      1027\n",
      "5,000km        967\n",
      "40,000km       819\n",
      "30,000km       789\n",
      "20,000km       784\n",
      "10,000km       264\n",
      "Name: odometer, dtype: int64\n"
     ]
    }
   ],
   "source": [
    "print(autos[\"odometer\"].value_counts())"
   ]
  },
  {
   "cell_type": "code",
   "execution_count": 8,
   "metadata": {},
   "outputs": [
    {
     "name": "stdout",
     "output_type": "stream",
     "text": [
      "$0         1421\n",
      "$500        781\n",
      "$1,500      734\n",
      "$2,500      643\n",
      "$1,200      639\n",
      "           ... \n",
      "$22,399       1\n",
      "$129          1\n",
      "$36,675       1\n",
      "$25,300       1\n",
      "$686          1\n",
      "Name: price, Length: 2357, dtype: int64\n"
     ]
    }
   ],
   "source": [
    "print(autos[\"price\"].value_counts())"
   ]
  },
  {
   "cell_type": "markdown",
   "metadata": {},
   "source": [
    "Indeed, they have symbols in them. We will have to deal with them later."
   ]
  },
  {
   "cell_type": "markdown",
   "metadata": {},
   "source": [
    "##### 1.3.2 Odd values"
   ]
  },
  {
   "cell_type": "markdown",
   "metadata": {},
   "source": [
    "If we now look at the \"registration_year\" column, we also see something very interesting: \n",
    "\n",
    "The minimum value is 1000 and its maximum is 9999. Unless there is a horse and a DeLorean time machine, this needs to be looked at."
   ]
  },
  {
   "cell_type": "code",
   "execution_count": 9,
   "metadata": {},
   "outputs": [
    {
     "name": "stdout",
     "output_type": "stream",
     "text": [
      "1000    1\n",
      "1001    1\n",
      "1111    1\n",
      "1500    1\n",
      "1800    2\n",
      "       ..\n",
      "6200    1\n",
      "8888    1\n",
      "9000    2\n",
      "9996    1\n",
      "9999    4\n",
      "Name: registration_year, Length: 97, dtype: int64\n"
     ]
    }
   ],
   "source": [
    "print(autos[\"registration_year\"].value_counts().sort_index())"
   ]
  },
  {
   "cell_type": "markdown",
   "metadata": {},
   "source": [
    "There is definitely something wrong with the data and we will need to do some cleanup later.\n",
    "\n",
    "Now, if we look at the 'power_ps' column we see something similar: the maximum value is 17700 sp (horsepower). This doesn't look very correct. Let's see:"
   ]
  },
  {
   "cell_type": "code",
   "execution_count": 10,
   "metadata": {},
   "outputs": [
    {
     "name": "stdout",
     "output_type": "stream",
     "text": [
      "0        5500\n",
      "75       3171\n",
      "60       2195\n",
      "150      2046\n",
      "140      1884\n",
      "         ... \n",
      "650         1\n",
      "490         1\n",
      "362         1\n",
      "153         1\n",
      "16312       1\n",
      "Name: power_ps, Length: 448, dtype: int64\n"
     ]
    }
   ],
   "source": [
    "print(autos[\"power_ps\"].value_counts())"
   ]
  },
  {
   "cell_type": "code",
   "execution_count": 11,
   "metadata": {},
   "outputs": [
    {
     "name": "stdout",
     "output_type": "stream",
     "text": [
      "              date_crawled                  name  seller offer_type    price  \\\n",
      "35039  2016-03-10 08:57:25  Top_Cabrio_A4_s_line  privat    Angebot  $11,950   \n",
      "\n",
      "      abtest vehicle_type  registration_year  gearbox  power_ps model  \\\n",
      "35039   test       cabrio               2008  manuell     16312    a4   \n",
      "\n",
      "       odometer  registration_month fuel_type brand unrepaired_damage  \\\n",
      "35039  20,000km                   4    benzin  audi              nein   \n",
      "\n",
      "                ad_created  nr_pictures  postal_code            last_seen  \n",
      "35039  2016-03-10 00:00:00            0        51647  2016-03-17 09:16:19  \n"
     ]
    }
   ],
   "source": [
    "print(autos.loc[autos[\"power_ps\"] == 16312, :])"
   ]
  },
  {
   "cell_type": "markdown",
   "metadata": {},
   "source": [
    "A quick Google search tells us that the Audi Top Cabrio A4 S Line has 163 hp approximately, so this is only an error in input."
   ]
  },
  {
   "cell_type": "markdown",
   "metadata": {},
   "source": [
    "## 2. Data Cleaning"
   ]
  },
  {
   "cell_type": "markdown",
   "metadata": {},
   "source": [
    "### 2.1 \"price\" and \"odometer\" columns"
   ]
  },
  {
   "cell_type": "markdown",
   "metadata": {},
   "source": [
    "#### 2.1.1 Transforming values to numbers"
   ]
  },
  {
   "cell_type": "markdown",
   "metadata": {},
   "source": [
    "We start our data cleaning process with the columns for price and the odometer. Our first step is to remove any non-numeric values that we previously identified and then convert them to a number."
   ]
  },
  {
   "cell_type": "code",
   "execution_count": 12,
   "metadata": {},
   "outputs": [],
   "source": [
    "autos[\"price\"] = autos[\"price\"].str.replace(\"$\", \"\")\n",
    "autos[\"price\"] = autos[\"price\"].str.replace(\",\", \"\")\n",
    "autos[\"price\"] = autos[\"price\"].astype(float)"
   ]
  },
  {
   "cell_type": "code",
   "execution_count": 13,
   "metadata": {},
   "outputs": [
    {
     "name": "stdout",
     "output_type": "stream",
     "text": [
      "0    5000.0\n",
      "1    8500.0\n",
      "2    8990.0\n",
      "3    4350.0\n",
      "4    1350.0\n",
      "Name: price, dtype: float64\n"
     ]
    }
   ],
   "source": [
    "print(autos[\"price\"].head())"
   ]
  },
  {
   "cell_type": "code",
   "execution_count": 14,
   "metadata": {},
   "outputs": [],
   "source": [
    "autos[\"odometer\"] = autos[\"odometer\"].str.replace(\"km\", \"\")\n",
    "autos[\"odometer\"] = autos[\"odometer\"].str.replace(\",\", \"\")\n",
    "autos[\"odometer\"] = autos[\"odometer\"].astype(float)"
   ]
  },
  {
   "cell_type": "code",
   "execution_count": 15,
   "metadata": {},
   "outputs": [
    {
     "name": "stdout",
     "output_type": "stream",
     "text": [
      "0    150000.0\n",
      "1    150000.0\n",
      "2     70000.0\n",
      "3     70000.0\n",
      "4    150000.0\n",
      "Name: odometer, dtype: float64\n"
     ]
    }
   ],
   "source": [
    "print(autos[\"odometer\"].head())"
   ]
  },
  {
   "cell_type": "markdown",
   "metadata": {},
   "source": [
    "For both cases we have removed the letters and characters, leaving only the number, and afterwards converted this number to a float. In everyday life we always see decimal points in these two fields in any thinkable car selling site, hence our choice of float vs integer."
   ]
  },
  {
   "cell_type": "markdown",
   "metadata": {},
   "source": [
    "Since we have removed \"km\" from the odometer values and in Europe we also see odometers in miles, we are going to rename the column to reflect that the numbers are measured in km."
   ]
  },
  {
   "cell_type": "code",
   "execution_count": 16,
   "metadata": {},
   "outputs": [],
   "source": [
    "autos.rename({\"odometer\": \"odometer_km\"}, axis = 1, inplace = True)"
   ]
  },
  {
   "cell_type": "markdown",
   "metadata": {},
   "source": [
    "A quick check on the first lines of the column confirms that the name has been changed correctly."
   ]
  },
  {
   "cell_type": "code",
   "execution_count": 17,
   "metadata": {},
   "outputs": [
    {
     "name": "stdout",
     "output_type": "stream",
     "text": [
      "0    150000.0\n",
      "1    150000.0\n",
      "Name: odometer_km, dtype: float64\n"
     ]
    }
   ],
   "source": [
    "print(autos[\"odometer_km\"].head(2))"
   ]
  },
  {
   "cell_type": "markdown",
   "metadata": {},
   "source": [
    "#### 2.1.2 Finding and removing odd values"
   ]
  },
  {
   "cell_type": "markdown",
   "metadata": {},
   "source": [
    "Now that both the \"price\" and \"odometer_km\" columns are numeric we are able to analyze the contents statistically and figure out if all the values are correct or if there is anything odd. We will start analysing by the column \"price\":"
   ]
  },
  {
   "cell_type": "code",
   "execution_count": 18,
   "metadata": {},
   "outputs": [
    {
     "name": "stdout",
     "output_type": "stream",
     "text": [
      "(2357,)\n"
     ]
    }
   ],
   "source": [
    "print(autos[\"price\"].unique().shape)"
   ]
  },
  {
   "cell_type": "markdown",
   "metadata": {},
   "source": [
    "We have way too many unique values, so we will need to look at other statistics to find out if there is anything odd:"
   ]
  },
  {
   "cell_type": "code",
   "execution_count": 19,
   "metadata": {
    "scrolled": true
   },
   "outputs": [
    {
     "name": "stdout",
     "output_type": "stream",
     "text": [
      "count    5.000000e+04\n",
      "mean     9.840044e+03\n",
      "std      4.811044e+05\n",
      "min      0.000000e+00\n",
      "25%      1.100000e+03\n",
      "50%      2.950000e+03\n",
      "75%      7.200000e+03\n",
      "max      1.000000e+08\n",
      "Name: price, dtype: float64\n"
     ]
    }
   ],
   "source": [
    "print(autos[\"price\"].describe())"
   ]
  },
  {
   "cell_type": "markdown",
   "metadata": {},
   "source": [
    "We also see that the maximum value is very high, and way above the 75% percentile, so this is probably skewing our mean and will definitely skew future calculations. We proceed to verify what are the values on the top of this series:"
   ]
  },
  {
   "cell_type": "code",
   "execution_count": 20,
   "metadata": {},
   "outputs": [
    {
     "name": "stdout",
     "output_type": "stream",
     "text": [
      "99999999.0    1\n",
      "27322222.0    1\n",
      "12345678.0    3\n",
      "11111111.0    2\n",
      "10000000.0    1\n",
      "3890000.0     1\n",
      "1300000.0     1\n",
      "1234566.0     1\n",
      "999999.0      2\n",
      "999990.0      1\n",
      "350000.0      1\n",
      "345000.0      1\n",
      "299000.0      1\n",
      "295000.0      1\n",
      "265000.0      1\n",
      "259000.0      1\n",
      "250000.0      1\n",
      "220000.0      1\n",
      "198000.0      1\n",
      "197000.0      1\n",
      "Name: price, dtype: int64\n"
     ]
    }
   ],
   "source": [
    "print(autos[\"price\"].value_counts().sort_index(ascending = False).head(20))"
   ]
  },
  {
   "cell_type": "markdown",
   "metadata": {},
   "source": [
    "We see that the biggest jump in values starts after 350000 euros. On top of that there are less than 15 values, so if we removed them, in terms of amount of entries removed vs how much will the data be skewed this is a safe choice."
   ]
  },
  {
   "cell_type": "code",
   "execution_count": 21,
   "metadata": {},
   "outputs": [],
   "source": [
    "autos.loc[:,\"price\"] = autos[autos[\"price\"].between(0, 350000)]"
   ]
  },
  {
   "cell_type": "code",
   "execution_count": 22,
   "metadata": {},
   "outputs": [
    {
     "name": "stdout",
     "output_type": "stream",
     "text": [
      "350000.0    1\n",
      "345000.0    1\n",
      "299000.0    1\n",
      "295000.0    1\n",
      "265000.0    1\n",
      "259000.0    1\n",
      "250000.0    1\n",
      "220000.0    1\n",
      "198000.0    1\n",
      "197000.0    1\n",
      "194000.0    1\n",
      "190000.0    1\n",
      "180000.0    1\n",
      "175000.0    1\n",
      "169999.0    1\n",
      "169000.0    1\n",
      "163991.0    1\n",
      "163500.0    1\n",
      "155000.0    1\n",
      "151990.0    1\n",
      "Name: price, dtype: int64\n"
     ]
    }
   ],
   "source": [
    "print(autos[\"price\"].value_counts().sort_index(ascending = False).head(20))"
   ]
  },
  {
   "cell_type": "code",
   "execution_count": 23,
   "metadata": {},
   "outputs": [
    {
     "name": "stdout",
     "output_type": "stream",
     "text": [
      "count     49986.000000\n",
      "mean       5721.525167\n",
      "std        8983.617820\n",
      "min           0.000000\n",
      "25%        1100.000000\n",
      "50%        2950.000000\n",
      "75%        7200.000000\n",
      "max      350000.000000\n",
      "Name: price, dtype: float64\n"
     ]
    }
   ],
   "source": [
    "print(autos[\"price\"].describe())"
   ]
  },
  {
   "cell_type": "markdown",
   "metadata": {},
   "source": [
    "Now we can see that all the values are much more balanced and close to each other, which will give us more reliable results during the analysis. We do the same for the column \"odometer_km\""
   ]
  },
  {
   "cell_type": "code",
   "execution_count": 24,
   "metadata": {},
   "outputs": [
    {
     "name": "stdout",
     "output_type": "stream",
     "text": [
      "(13,)\n"
     ]
    }
   ],
   "source": [
    "print(autos[\"odometer_km\"].unique().shape)"
   ]
  },
  {
   "cell_type": "markdown",
   "metadata": {},
   "source": [
    "This column is much easier to read, we can simply proceed to print them in a sorted shape:"
   ]
  },
  {
   "cell_type": "code",
   "execution_count": 25,
   "metadata": {},
   "outputs": [
    {
     "name": "stdout",
     "output_type": "stream",
     "text": [
      "150000.0    32424\n",
      "125000.0     5170\n",
      "100000.0     2169\n",
      "90000.0      1757\n",
      "80000.0      1436\n",
      "70000.0      1230\n",
      "60000.0      1164\n",
      "50000.0      1027\n",
      "40000.0       819\n",
      "30000.0       789\n",
      "20000.0       784\n",
      "10000.0       264\n",
      "5000.0        967\n",
      "Name: odometer_km, dtype: int64\n"
     ]
    }
   ],
   "source": [
    "print(autos[\"odometer_km\"].value_counts().sort_index(ascending = False))"
   ]
  },
  {
   "cell_type": "markdown",
   "metadata": {},
   "source": [
    "All the values are values that you would expect in a used car site like this, so we do not need to remove any value."
   ]
  },
  {
   "cell_type": "markdown",
   "metadata": {},
   "source": [
    "### 2.2 Columns with dates and time"
   ]
  },
  {
   "cell_type": "markdown",
   "metadata": {},
   "source": [
    "Before getting into cleaning the more obvious odd values that we observed earlier, we are going to study all the columns that contain dates:\n",
    "\n",
    "- \"date_crawled\" - which indicates when was this ad found and indexed by eBay's software (crawlers) for the first time\n",
    "\n",
    "- \"ad_created\" - when was the ad created\n",
    "\n",
    "- \"last seen\" - when was this ad last seen by eBay's crawlers\n",
    "\n",
    "- \"registration_month\" - month that the car was registered in\n",
    "\n",
    "- \"registration_year\" - year that the car was registered in\n",
    "\n",
    "We notice from our previous autos.info() function, that both the month and year of registration are stored in the dataframe as integer values. However, the other 3 dates are stored as strings.\n",
    "\n",
    "Let's see how can we format the dates so that it is easier to analyze them:"
   ]
  },
  {
   "cell_type": "markdown",
   "metadata": {},
   "source": [
    "#### 2.2.1 Dates as strings"
   ]
  },
  {
   "cell_type": "markdown",
   "metadata": {},
   "source": [
    "#### 2.2.1.1 Data cleaning"
   ]
  },
  {
   "cell_type": "code",
   "execution_count": 26,
   "metadata": {},
   "outputs": [
    {
     "name": "stdout",
     "output_type": "stream",
     "text": [
      "          date_crawled           ad_created            last_seen\n",
      "0  2016-03-26 17:47:46  2016-03-26 00:00:00  2016-04-06 06:45:54\n",
      "1  2016-04-04 13:38:56  2016-04-04 00:00:00  2016-04-06 14:45:08\n",
      "2  2016-03-26 18:57:24  2016-03-26 00:00:00  2016-04-06 20:15:37\n",
      "3  2016-03-12 16:58:10  2016-03-12 00:00:00  2016-03-15 03:16:28\n",
      "4  2016-04-01 14:38:50  2016-04-01 00:00:00  2016-04-01 14:38:50\n"
     ]
    }
   ],
   "source": [
    "print(autos[[\"date_crawled\", \"ad_created\", \"last_seen\"]].head())"
   ]
  },
  {
   "cell_type": "markdown",
   "metadata": {},
   "source": [
    "The dates each contain a very unique time of the day, which is great if we also wanted to set up an online site. However, Johann will set up shop physically so we don't need to be that specific about the hour and minute of the day, and he only needs the bigger picture. \n",
    "\n",
    "We notice that the first 10 characters of each column are the dates, so we can isolate those values and provide our first observations:"
   ]
  },
  {
   "cell_type": "code",
   "execution_count": 27,
   "metadata": {},
   "outputs": [],
   "source": [
    "date_crawled_isolated = autos[\"date_crawled\"].str[:10]\n",
    "ad_created_isolated = autos[\"ad_created\"].str[:10]\n",
    "last_seen_isolated = autos[\"last_seen\"].str[:10]"
   ]
  },
  {
   "cell_type": "code",
   "execution_count": 28,
   "metadata": {},
   "outputs": [
    {
     "name": "stdout",
     "output_type": "stream",
     "text": [
      "0    2016-03-26\n",
      "1    2016-04-04\n",
      "2    2016-03-26\n",
      "3    2016-03-12\n",
      "4    2016-04-01\n",
      "Name: date_crawled, dtype: object\n",
      "0    2016-03-26\n",
      "1    2016-04-04\n",
      "2    2016-03-26\n",
      "3    2016-03-12\n",
      "4    2016-04-01\n",
      "Name: ad_created, dtype: object\n",
      "0    2016-04-06\n",
      "1    2016-04-06\n",
      "2    2016-04-06\n",
      "3    2016-03-15\n",
      "4    2016-04-01\n",
      "Name: last_seen, dtype: object\n"
     ]
    }
   ],
   "source": [
    "print(date_crawled_isolated.head())\n",
    "print(ad_created_isolated.head())\n",
    "print(last_seen_isolated.head())"
   ]
  },
  {
   "cell_type": "markdown",
   "metadata": {},
   "source": [
    "Now the visibility is much better and gives us an easier to read distribution. We can do a quick verification of the unique values for each column, and if they are not too many we can normalize data and draw some observations from it."
   ]
  },
  {
   "cell_type": "markdown",
   "metadata": {},
   "source": [
    "#### 2.2.1.2 Initial analysis and observations"
   ]
  },
  {
   "cell_type": "code",
   "execution_count": 29,
   "metadata": {},
   "outputs": [
    {
     "data": {
      "text/plain": [
       "(34,)"
      ]
     },
     "execution_count": 29,
     "metadata": {},
     "output_type": "execute_result"
    }
   ],
   "source": [
    "date_crawled_isolated.unique().shape"
   ]
  },
  {
   "cell_type": "code",
   "execution_count": 30,
   "metadata": {},
   "outputs": [
    {
     "data": {
      "text/plain": [
       "(76,)"
      ]
     },
     "execution_count": 30,
     "metadata": {},
     "output_type": "execute_result"
    }
   ],
   "source": [
    "ad_created_isolated.unique().shape"
   ]
  },
  {
   "cell_type": "code",
   "execution_count": 31,
   "metadata": {},
   "outputs": [
    {
     "data": {
      "text/plain": [
       "(34,)"
      ]
     },
     "execution_count": 31,
     "metadata": {},
     "output_type": "execute_result"
    }
   ],
   "source": [
    "last_seen_isolated.unique().shape"
   ]
  },
  {
   "cell_type": "markdown",
   "metadata": {},
   "source": [
    "Strangely, we notice that there are more unique values for ad_created than for date_crawled and last_seen. We know that both of these two columns are imported by the crawlers, so it is possible that the difference in the count is for ads that have not been crawled yet, or that some of these ads were crawled at different dates from their creation. \n",
    "\n",
    "Let's see what we find if we analyze the normal distributions and sort the dates:"
   ]
  },
  {
   "cell_type": "code",
   "execution_count": 32,
   "metadata": {},
   "outputs": [
    {
     "name": "stdout",
     "output_type": "stream",
     "text": [
      "2016-03-05    0.02538\n",
      "2016-03-06    0.01394\n",
      "2016-03-07    0.03596\n",
      "2016-03-08    0.03330\n",
      "2016-03-09    0.03322\n",
      "2016-03-10    0.03212\n",
      "2016-03-11    0.03248\n",
      "2016-03-12    0.03678\n",
      "2016-03-13    0.01556\n",
      "2016-03-14    0.03662\n",
      "2016-03-15    0.03398\n",
      "2016-03-16    0.02950\n",
      "2016-03-17    0.03152\n",
      "2016-03-18    0.01306\n",
      "2016-03-19    0.03490\n",
      "2016-03-20    0.03782\n",
      "2016-03-21    0.03752\n",
      "2016-03-22    0.03294\n",
      "2016-03-23    0.03238\n",
      "2016-03-24    0.02910\n",
      "2016-03-25    0.03174\n",
      "2016-03-26    0.03248\n",
      "2016-03-27    0.03104\n",
      "2016-03-28    0.03484\n",
      "2016-03-29    0.03418\n",
      "2016-03-30    0.03362\n",
      "2016-03-31    0.03192\n",
      "2016-04-01    0.03380\n",
      "2016-04-02    0.03540\n",
      "2016-04-03    0.03868\n",
      "2016-04-04    0.03652\n",
      "2016-04-05    0.01310\n",
      "2016-04-06    0.00318\n",
      "2016-04-07    0.00142\n",
      "Name: date_crawled, dtype: float64\n",
      "2015-06-11    0.00002\n",
      "2015-08-10    0.00002\n",
      "2015-09-09    0.00002\n",
      "2015-11-10    0.00002\n",
      "2015-12-05    0.00002\n",
      "               ...   \n",
      "2016-04-03    0.03892\n",
      "2016-04-04    0.03688\n",
      "2016-04-05    0.01184\n",
      "2016-04-06    0.00326\n",
      "2016-04-07    0.00128\n",
      "Name: ad_created, Length: 76, dtype: float64\n",
      "2016-03-05    0.00108\n",
      "2016-03-06    0.00442\n",
      "2016-03-07    0.00536\n",
      "2016-03-08    0.00760\n",
      "2016-03-09    0.00986\n",
      "2016-03-10    0.01076\n",
      "2016-03-11    0.01252\n",
      "2016-03-12    0.02382\n",
      "2016-03-13    0.00898\n",
      "2016-03-14    0.01280\n",
      "2016-03-15    0.01588\n",
      "2016-03-16    0.01644\n",
      "2016-03-17    0.02792\n",
      "2016-03-18    0.00742\n",
      "2016-03-19    0.01574\n",
      "2016-03-20    0.02070\n",
      "2016-03-21    0.02074\n",
      "2016-03-22    0.02158\n",
      "2016-03-23    0.01858\n",
      "2016-03-24    0.01956\n",
      "2016-03-25    0.01920\n",
      "2016-03-26    0.01696\n",
      "2016-03-27    0.01602\n",
      "2016-03-28    0.02086\n",
      "2016-03-29    0.02234\n",
      "2016-03-30    0.02484\n",
      "2016-03-31    0.02384\n",
      "2016-04-01    0.02310\n",
      "2016-04-02    0.02490\n",
      "2016-04-03    0.02536\n",
      "2016-04-04    0.02462\n",
      "2016-04-05    0.12428\n",
      "2016-04-06    0.22100\n",
      "2016-04-07    0.13092\n",
      "Name: last_seen, dtype: float64\n"
     ]
    }
   ],
   "source": [
    "print(date_crawled_isolated.value_counts(normalize = True, dropna = False).sort_index())\n",
    "print(ad_created_isolated.value_counts(normalize = True, dropna = False).sort_index())\n",
    "print(last_seen_isolated.value_counts(normalize = True, dropna = False).sort_index())\n"
   ]
  },
  {
   "cell_type": "code",
   "execution_count": 33,
   "metadata": {},
   "outputs": [
    {
     "name": "stdout",
     "output_type": "stream",
     "text": [
      "(50000,)\n",
      "(50000,)\n",
      "(50000,)\n"
     ]
    }
   ],
   "source": [
    "print(date_crawled_isolated.shape)\n",
    "print(ad_created_isolated.shape)\n",
    "print(last_seen_isolated.shape)"
   ]
  },
  {
   "cell_type": "markdown",
   "metadata": {},
   "source": [
    "Interesting! We can already draw a couple of initial conclusions:\n",
    "\n",
    "- All these columns have the same amount of values, yet the distribution tells us that some of these ads were created almost 6 months before they were crawled for the very first time. Could this mean that eBay did not introduce crawlers until 2016? This is a fun fact, but not specially relevant to Johann\n",
    "\n",
    "- \"last_seen\" has the majority of its distribution in the latest dates of the database. If the crawlers go over ads by level of activity this could be an indicator of sales and an active second hand marketplace. This legitimizes the database and tells us that we are going to be giving useful information to Johann.\n",
    "\n",
    "- \"date_crawled\" has a relatively big concentration during the March 20s, which in 2016 was around the date for Easter. This is an indicator that before and during a big holiday period is high season and it is also very relevant to Johann."
   ]
  },
  {
   "cell_type": "markdown",
   "metadata": {},
   "source": [
    "#### 2.2.2 Dates as integers"
   ]
  },
  {
   "cell_type": "markdown",
   "metadata": {},
   "source": [
    "Now, if we check the distribution of our columns for \"registration_year\" and \"registration_month\", we see:"
   ]
  },
  {
   "cell_type": "code",
   "execution_count": 34,
   "metadata": {},
   "outputs": [
    {
     "name": "stdout",
     "output_type": "stream",
     "text": [
      "       registration_month  registration_year\n",
      "count        50000.000000       50000.000000\n",
      "mean             5.723360        2005.073280\n",
      "std              3.711984         105.712813\n",
      "min              0.000000        1000.000000\n",
      "25%              3.000000        1999.000000\n",
      "50%              6.000000        2003.000000\n",
      "75%              9.000000        2008.000000\n",
      "max             12.000000        9999.000000\n"
     ]
    }
   ],
   "source": [
    "print(autos[[\"registration_month\", \"registration_year\"]].describe())"
   ]
  },
  {
   "cell_type": "markdown",
   "metadata": {},
   "source": [
    "As we had initially observed, there is something wrong with the year as the minimum value is 1000 and the maximum is 9999. We also notice that the month also starts at number 0, which is wrong."
   ]
  },
  {
   "cell_type": "code",
   "execution_count": 35,
   "metadata": {},
   "outputs": [
    {
     "name": "stdout",
     "output_type": "stream",
     "text": [
      "0     5075\n",
      "1     3282\n",
      "2     3008\n",
      "3     5071\n",
      "4     4102\n",
      "5     4107\n",
      "6     4368\n",
      "7     3949\n",
      "8     3191\n",
      "9     3389\n",
      "10    3651\n",
      "11    3360\n",
      "12    3447\n",
      "Name: registration_month, dtype: int64\n"
     ]
    }
   ],
   "source": [
    "print(autos[\"registration_month\"].value_counts().sort_index())"
   ]
  },
  {
   "cell_type": "code",
   "execution_count": 36,
   "metadata": {},
   "outputs": [
    {
     "name": "stdout",
     "output_type": "stream",
     "text": [
      "2017    1453\n",
      "2018     492\n",
      "2019       3\n",
      "2800       1\n",
      "4100       1\n",
      "4500       1\n",
      "4800       1\n",
      "5000       4\n",
      "5911       1\n",
      "6200       1\n",
      "8888       1\n",
      "9000       2\n",
      "9996       1\n",
      "9999       4\n",
      "Name: registration_year, dtype: int64\n"
     ]
    }
   ],
   "source": [
    "print(autos.loc[autos[\"registration_year\"] > 2016, \"registration_year\"].value_counts().sort_index())"
   ]
  },
  {
   "cell_type": "code",
   "execution_count": 37,
   "metadata": {},
   "outputs": [
    {
     "name": "stdout",
     "output_type": "stream",
     "text": [
      "(1966,)\n"
     ]
    }
   ],
   "source": [
    "print(autos.loc[autos[\"registration_year\"] > 2016, \"registration_year\"].shape)"
   ]
  },
  {
   "cell_type": "markdown",
   "metadata": {},
   "source": [
    "We have issues in each column that could undermine the quality of our data:\n",
    "\n",
    "- For \"registration_month\", 10% of our values are invalid, since they are 0\n",
    "\n",
    "- For \"registration_year\", at least 4% of our values are also invalid, since it is impossible to list a car in 2016 that has been registered a year or more later. We also need to keep in mind those years that are too early.\n",
    "\n",
    "We proceed to do as we did for the price. We will limit the years from 1900 (Ford T was invented 1908) to 2016, and the months from 1 to 12."
   ]
  },
  {
   "cell_type": "code",
   "execution_count": 38,
   "metadata": {},
   "outputs": [],
   "source": [
    "autos.loc[:,\"registration_year\"] = autos[autos[\"registration_year\"].between(1900, 2016)]\n",
    "autos.loc[:,\"registration_month\"] = autos[autos[\"registration_month\"].between(1, 12)]\n"
   ]
  },
  {
   "cell_type": "code",
   "execution_count": 39,
   "metadata": {},
   "outputs": [
    {
     "name": "stdout",
     "output_type": "stream",
     "text": [
      "count    48028.00000\n",
      "mean      2002.80351\n",
      "std          7.31085\n",
      "min       1910.00000\n",
      "25%       1999.00000\n",
      "50%       2003.00000\n",
      "75%       2008.00000\n",
      "max       2016.00000\n",
      "Name: registration_year, dtype: float64\n"
     ]
    }
   ],
   "source": [
    "print(autos[\"registration_year\"].describe())"
   ]
  },
  {
   "cell_type": "code",
   "execution_count": 40,
   "metadata": {},
   "outputs": [
    {
     "name": "stdout",
     "output_type": "stream",
     "text": [
      "count    44925.000000\n",
      "mean         6.369905\n",
      "std          3.349160\n",
      "min          1.000000\n",
      "25%          3.000000\n",
      "50%          6.000000\n",
      "75%          9.000000\n",
      "max         12.000000\n",
      "Name: registration_month, dtype: float64\n"
     ]
    }
   ],
   "source": [
    "print(autos[\"registration_month\"].describe())"
   ]
  },
  {
   "cell_type": "markdown",
   "metadata": {},
   "source": [
    "We now see that the values are very much in the range that you would expect, and that we still have a generous pool of 44.9 thousand values. Let's see what we find out if we look at the normal distribution:"
   ]
  },
  {
   "cell_type": "code",
   "execution_count": 41,
   "metadata": {},
   "outputs": [
    {
     "name": "stdout",
     "output_type": "stream",
     "text": [
      "1910.0    0.000187\n",
      "1927.0    0.000021\n",
      "1929.0    0.000021\n",
      "1931.0    0.000021\n",
      "1934.0    0.000042\n",
      "            ...   \n",
      "2012.0    0.027546\n",
      "2013.0    0.016782\n",
      "2014.0    0.013867\n",
      "2015.0    0.008308\n",
      "2016.0    0.027401\n",
      "Name: registration_year, Length: 78, dtype: float64\n"
     ]
    }
   ],
   "source": [
    "print(autos[\"registration_year\"].value_counts(normalize = True).sort_index())"
   ]
  },
  {
   "cell_type": "code",
   "execution_count": 42,
   "metadata": {},
   "outputs": [
    {
     "name": "stdout",
     "output_type": "stream",
     "text": [
      "1.0     0.073055\n",
      "2.0     0.066956\n",
      "3.0     0.112877\n",
      "4.0     0.091308\n",
      "5.0     0.091419\n",
      "6.0     0.097229\n",
      "7.0     0.087902\n",
      "8.0     0.071029\n",
      "9.0     0.075437\n",
      "10.0    0.081269\n",
      "11.0    0.074791\n",
      "12.0    0.076728\n",
      "Name: registration_month, dtype: float64\n"
     ]
    }
   ],
   "source": [
    "print(autos[\"registration_month\"].value_counts(normalize = True).sort_index())"
   ]
  },
  {
   "cell_type": "markdown",
   "metadata": {},
   "source": [
    "The normal distribution, linked with the previous statistics, tells us:\n",
    "\n",
    "- Most of the cars are registered in the early 2000s (more than 50%) and there are few new cars\n",
    "- March seems like a popular month but it does not tell us anything at this moment\n",
    "- There are a few classics also sold online"
   ]
  },
  {
   "cell_type": "markdown",
   "metadata": {},
   "source": [
    "## 3. Further analysis"
   ]
  },
  {
   "cell_type": "markdown",
   "metadata": {},
   "source": [
    "### 3.1 Analysis by car brand - Pricing"
   ]
  },
  {
   "cell_type": "markdown",
   "metadata": {},
   "source": [
    "Now that all our data is more clean, and we know that there is a decent amount of activity in the site, we can proceed to analyze the car by brand and find out how is each brand priced. We know that the mean pricing of each brand will be most likely be representing cars from the early 2000s as we pointed in the last section. This will be a very useful statistic for our client Johann to later apply to his business."
   ]
  },
  {
   "cell_type": "code",
   "execution_count": 43,
   "metadata": {},
   "outputs": [
    {
     "name": "stdout",
     "output_type": "stream",
     "text": [
      "volkswagen        10687\n",
      "opel               5461\n",
      "bmw                5429\n",
      "mercedes_benz      4734\n",
      "audi               4283\n",
      "ford               3479\n",
      "renault            2404\n",
      "peugeot            1456\n",
      "fiat               1308\n",
      "seat                941\n",
      "skoda               786\n",
      "mazda               757\n",
      "nissan              754\n",
      "smart               701\n",
      "citroen             701\n",
      "toyota              617\n",
      "sonstige_autos      546\n",
      "hyundai             488\n",
      "volvo               457\n",
      "mini                424\n",
      "mitsubishi          406\n",
      "honda               399\n",
      "kia                 356\n",
      "alfa_romeo          329\n",
      "porsche             294\n",
      "suzuki              293\n",
      "chevrolet           283\n",
      "chrysler            181\n",
      "dacia               129\n",
      "daihatsu            128\n",
      "jeep                110\n",
      "subaru              109\n",
      "land_rover           99\n",
      "saab                 80\n",
      "daewoo               79\n",
      "trabant              78\n",
      "jaguar               77\n",
      "rover                69\n",
      "lancia               57\n",
      "lada                 31\n",
      "Name: brand, dtype: int64\n"
     ]
    }
   ],
   "source": [
    "print(autos[\"brand\"].value_counts(dropna=False))"
   ]
  },
  {
   "cell_type": "code",
   "execution_count": 44,
   "metadata": {},
   "outputs": [
    {
     "data": {
      "text/plain": [
       "count          50000\n",
       "unique            40\n",
       "top       volkswagen\n",
       "freq           10687\n",
       "Name: brand, dtype: object"
      ]
     },
     "execution_count": 44,
     "metadata": {},
     "output_type": "execute_result"
    }
   ],
   "source": [
    "autos[\"brand\"].describe()"
   ]
  },
  {
   "cell_type": "markdown",
   "metadata": {},
   "source": [
    "The brands with 4 and 5 figure counts seem to represent a vast majority of the volume of 50.000 records, but we need to double check that this is a correct assumption."
   ]
  },
  {
   "cell_type": "code",
   "execution_count": 45,
   "metadata": {},
   "outputs": [
    {
     "name": "stdout",
     "output_type": "stream",
     "text": [
      "(39241, 20)\n"
     ]
    }
   ],
   "source": [
    "#We use df[column].isin(['string']) to filter out the brands with most values\n",
    "print(autos[autos[\"brand\"].isin([\"volkswagen\", \"opel\", \"bmw\", \"mercedes_benz\", \"audi\", \"ford\", \"renault\", \"peugeot\", \"fiat\"])].shape)"
   ]
  },
  {
   "cell_type": "markdown",
   "metadata": {},
   "source": [
    "34,5 thousand values is 70% of the values. Perhaps if we cover until the brands with 500 or less cars (down to 1% of the database each) we can get a more complete sample."
   ]
  },
  {
   "cell_type": "code",
   "execution_count": 46,
   "metadata": {
    "scrolled": true
   },
   "outputs": [
    {
     "name": "stdout",
     "output_type": "stream",
     "text": [
      "(44498, 20)\n"
     ]
    }
   ],
   "source": [
    "#We use df[column].isin(['string']) to filter out the brands with most values\n",
    "print(autos[autos[\"brand\"].isin([\"volkswagen\", \"opel\", \"bmw\", \"mercedes_benz\", \"audi\", \"ford\", \"renault\", \"peugeot\", \"fiat\", \"seat\", \"skoda\",\"mazda\", \"nissan\", \"citroen\", \"smart\", \"toyota\"])].shape)\n",
    "\n",
    "car_brands = autos[autos[\"brand\"].isin([\"volkswagen\", \"opel\", \"bmw\", \"mercedes-benz\", \"audi\", \"ford\", \"renault\", \"peugeot\", \"fiat\", \"seat\", \"skoda\",\"mazda\", \"nissan\", \"citroen\", \"smart\", \"toyota\"])]"
   ]
  },
  {
   "cell_type": "markdown",
   "metadata": {},
   "source": [
    "45 thousand values is 80% of the database, enough for a representative sample. Now we will calculate the mean price per brand."
   ]
  },
  {
   "cell_type": "code",
   "execution_count": 47,
   "metadata": {},
   "outputs": [
    {
     "name": "stdout",
     "output_type": "stream",
     "text": [
      "{'volkswagen': 5157.34, 'opel': 2845.39, 'bmw': 8025.52, 'mercedes_benz': 8388.17, 'audi': 8965.56, 'ford': 3624.46, 'renault': 2351.3, 'peugeot': 3010.87, 'fiat': 2695.61, 'seat': 4219.43, 'skoda': 6305.04, 'mazda': 3962.54, 'nissan': 4588.88, 'citroen': 3681.4, 'smart': 3482.97, 'toyota': 5097.94}\n"
     ]
    }
   ],
   "source": [
    "brand_prices_dictionary = {}\n",
    "\n",
    "brands = [\"volkswagen\", \"opel\", \"bmw\", \"mercedes_benz\", \"audi\", \"ford\", \"renault\", \"peugeot\", \"fiat\", \"seat\", \"skoda\",\"mazda\", \"nissan\", \"citroen\", \"smart\", \"toyota\"]\n",
    "\n",
    "for b in brands:\n",
    "    brand_match = autos[autos[\"brand\"] == b]\n",
    "    brand_match_price_sum = brand_match[\"price\"].sum()\n",
    "    brand_prices_dictionary[b] = round(brand_match_price_sum / brand_match.shape[0], 2)\n",
    "\n",
    "print(brand_prices_dictionary)\n",
    "\n",
    "    "
   ]
  },
  {
   "cell_type": "markdown",
   "metadata": {},
   "source": [
    "We see that the prices start from 2.351 euros for Renault and go all the way to 8.000 euros for Audi. This is another very useful piece of information for Johann to position his shop.\n",
    "\n",
    "We can also observe that there are 2 clear categories in the pricing:\n",
    "\n",
    "- For mid-low range brands the price stays consistently between 2.500 euros and 3.500, except for Toyota\n",
    "- All the high end brands start at least at 8.000 euros, which is a great insight should Johann target this segment\n",
    "- We also have to remember that all these cars have an average age of 14 years based on the mean year of registration being early 2000s. This can help Johann learn more about the depreciation pace of different brands"
   ]
  },
  {
   "cell_type": "markdown",
   "metadata": {},
   "source": [
    "### 3.2 Analysis by car brand - Mileage"
   ]
  },
  {
   "cell_type": "markdown",
   "metadata": {},
   "source": [
    "Mileage is another strong factor when it comes to prices of used cars. It would also be very helpful for Johann to know what is the average mileage per brand in the eBay database, and then further compare price and mileage per brand."
   ]
  },
  {
   "cell_type": "code",
   "execution_count": 48,
   "metadata": {},
   "outputs": [
    {
     "name": "stdout",
     "output_type": "stream",
     "text": [
      "{'volkswagen': 128955.27, 'opel': 129298.66, 'bmw': 132521.64, 'mercedes_benz': 130886.14, 'audi': 129643.94, 'ford': 124131.93, 'renault': 128223.79, 'peugeot': 127352.34, 'fiat': 117037.46, 'seat': 122061.64, 'skoda': 110947.84, 'mazda': 125132.1, 'nissan': 118978.78, 'citroen': 119764.62, 'smart': 100756.06, 'toyota': 115988.65}\n"
     ]
    }
   ],
   "source": [
    "brand_kilometers_dictionary = {}\n",
    "\n",
    "brands = [\"volkswagen\", \"opel\", \"bmw\", \"mercedes_benz\", \"audi\", \"ford\", \"renault\", \"peugeot\", \"fiat\", \"seat\", \"skoda\",\"mazda\", \"nissan\", \"citroen\", \"smart\", \"toyota\"]\n",
    "\n",
    "for b in brands:\n",
    "    brand_match = autos[autos[\"brand\"] == b]\n",
    "    brand_match_kilometer_sum = brand_match[\"odometer_km\"].sum()\n",
    "    brand_kilometers_dictionary[b] = round(brand_match_kilometer_sum / brand_match.shape[0], 2)\n",
    "\n",
    "print(brand_kilometers_dictionary)"
   ]
  },
  {
   "cell_type": "markdown",
   "metadata": {},
   "source": [
    "In order to compare these, we need to convert both the price and kilometer dictionares to a series, and later on put them inside a dataframe:"
   ]
  },
  {
   "cell_type": "code",
   "execution_count": 49,
   "metadata": {},
   "outputs": [
    {
     "name": "stdout",
     "output_type": "stream",
     "text": [
      "               mean_price  mean_mileage\n",
      "volkswagen        5157.34     128955.27\n",
      "opel              2845.39     129298.66\n",
      "bmw               8025.52     132521.64\n",
      "mercedes_benz     8388.17     130886.14\n",
      "audi              8965.56     129643.94\n",
      "ford              3624.46     124131.93\n",
      "renault           2351.30     128223.79\n",
      "peugeot           3010.87     127352.34\n",
      "fiat              2695.61     117037.46\n",
      "seat              4219.43     122061.64\n",
      "skoda             6305.04     110947.84\n",
      "mazda             3962.54     125132.10\n",
      "nissan            4588.88     118978.78\n",
      "citroen           3681.40     119764.62\n",
      "smart             3482.97     100756.06\n",
      "toyota            5097.94     115988.65\n"
     ]
    }
   ],
   "source": [
    "#We convert each dictionary into a series with the constructor pd.Series(dictionary)\n",
    "price_series = pd.Series(brand_prices_dictionary)\n",
    "kilometer_series = pd.Series(brand_kilometers_dictionary)\n",
    "\n",
    "#We convert our series into a dataframe with the pd.Dataframe constructor. We start with price and add mean mileage\n",
    "price_dataframe = pd.DataFrame(price_series, columns = [\"mean_price\"])\n",
    "price_dataframe[\"mean_mileage\"] = kilometer_series\n",
    "print(price_dataframe)"
   ]
  },
  {
   "cell_type": "markdown",
   "metadata": {},
   "source": [
    "From the resulting data we can see:\n",
    "\n",
    "- Mileage is very similar in most of the cars\n",
    "\n",
    "- That the high-end brands have the most mileage, yet they keep their price the highest. It shows that depreciation is not that strong for these and that brand plays a bigger part than mileage in pricing"
   ]
  },
  {
   "cell_type": "markdown",
   "metadata": {},
   "source": [
    "### 3.3 Analysis by car brand - Model combinations"
   ]
  },
  {
   "cell_type": "markdown",
   "metadata": {},
   "source": [
    "Finally, apart from price and mileage, another factor we would want to keep in mind is which brand / model combinations are listed. This will tell Johann what is the competition in the online marketplace and help him draft his strategy."
   ]
  },
  {
   "cell_type": "code",
   "execution_count": 50,
   "metadata": {},
   "outputs": [
    {
     "name": "stdout",
     "output_type": "stream",
     "text": [
      "brand          model             \n",
      "alfa_romeo     145                      5\n",
      "               147                     85\n",
      "               156                     93\n",
      "               159                     34\n",
      "               andere                  61\n",
      "               spider                  33\n",
      "audi           100                     60\n",
      "               200                      1\n",
      "               80                     218\n",
      "               90                       9\n",
      "               a1                      84\n",
      "               a2                      46\n",
      "               a3                     882\n",
      "               a4                    1291\n",
      "               a5                     127\n",
      "               a6                     835\n",
      "               a8                      75\n",
      "               andere                 220\n",
      "               q3                      28\n",
      "               q5                      62\n",
      "               q7                      42\n",
      "               tt                     149\n",
      "bmw            1er                    538\n",
      "               3er                   2761\n",
      "               5er                   1183\n",
      "               6er                     32\n",
      "               7er                    135\n",
      "               andere                  42\n",
      "               i3                       1\n",
      "               m_reihe                 47\n",
      "               x_reihe                302\n",
      "               z_reihe                121\n",
      "chevrolet      andere                 154\n",
      "               aveo                    22\n",
      "               captiva                 25\n",
      "               matiz                   35\n",
      "               spark                   26\n",
      "chrysler       300c                    12\n",
      "               andere                  52\n",
      "               crossfire                6\n",
      "               grand                   13\n",
      "               ptcruiser               36\n",
      "               voyager                 50\n",
      "citroen        andere                 238\n",
      "               berlingo               106\n",
      "               c1                      58\n",
      "               c2                      56\n",
      "               c3                      70\n",
      "               c4                      64\n",
      "               c5                      74\n",
      "dacia          andere                   2\n",
      "               duster                  29\n",
      "               lodgy                    5\n",
      "               logan                   43\n",
      "               sandero                 47\n",
      "daewoo         andere                  10\n",
      "               kalos                   18\n",
      "               lanos                   12\n",
      "               matiz                   25\n",
      "               nubira                   8\n",
      "daihatsu       andere                  17\n",
      "               charade                  3\n",
      "               cuore                   69\n",
      "               materia                  4\n",
      "               move                    10\n",
      "               sirion                  12\n",
      "               terios                  10\n",
      "fiat           500                    123\n",
      "               andere                 243\n",
      "               bravo                   48\n",
      "               croma                    5\n",
      "               doblo                   47\n",
      "               ducato                  60\n",
      "               panda                   90\n",
      "               punto                  458\n",
      "               seicento                84\n",
      "               stilo                   81\n",
      "ford           andere                 201\n",
      "               b_max                    1\n",
      "               c_max                   83\n",
      "               escort                 118\n",
      "               fiesta                 769\n",
      "               focus                  811\n",
      "               fusion                  33\n",
      "               galaxy                 173\n",
      "               ka                     370\n",
      "               kuga                    42\n",
      "               mondeo                 496\n",
      "               mustang                 57\n",
      "               s_max                   54\n",
      "               transit                108\n",
      "honda          accord                  43\n",
      "               andere                  53\n",
      "               civic                  186\n",
      "               cr_reihe                54\n",
      "               jazz                    37\n",
      "hyundai        andere                 148\n",
      "               getz                    51\n",
      "               i_reihe                179\n",
      "               santa                   48\n",
      "               tucson                  25\n",
      "jaguar         andere                  39\n",
      "               s_type                  14\n",
      "               x_type                  22\n",
      "jeep           andere                  16\n",
      "               cherokee                21\n",
      "               grand                   43\n",
      "               wrangler                24\n",
      "kia            andere                  69\n",
      "               carnival                32\n",
      "               ceed                    38\n",
      "               picanto                 47\n",
      "               rio                     42\n",
      "               sorento                 55\n",
      "               sportage                53\n",
      "lada           andere                   8\n",
      "               kalina                   2\n",
      "               niva                    15\n",
      "               samara                   4\n",
      "lancia         andere                  11\n",
      "               delta                    6\n",
      "               kappa                    2\n",
      "               lybra                   10\n",
      "               ypsilon                 25\n",
      "land_rover     andere                   4\n",
      "               defender                23\n",
      "               discovery               13\n",
      "               freelander              32\n",
      "               range_rover              9\n",
      "               range_rover_evoque       5\n",
      "               range_rover_sport       12\n",
      "mazda          1_reihe                 10\n",
      "               3_reihe                182\n",
      "               5_reihe                 44\n",
      "               6_reihe                167\n",
      "               andere                 146\n",
      "               cx_reihe                15\n",
      "               mx_reihe               119\n",
      "               rx_reihe                24\n",
      "mercedes_benz  a_klasse               588\n",
      "               andere                 446\n",
      "               b_klasse               126\n",
      "               c_klasse              1172\n",
      "               cl                      41\n",
      "               clk                    255\n",
      "               e_klasse              1001\n",
      "               g_klasse                25\n",
      "               gl                      12\n",
      "               glk                     30\n",
      "               m_klasse               154\n",
      "               s_klasse               135\n",
      "               sl                     102\n",
      "               slk                    172\n",
      "               sprinter               103\n",
      "               v_klasse                25\n",
      "               viano                   64\n",
      "               vito                   127\n",
      "mini           andere                  13\n",
      "               clubman                 27\n",
      "               cooper                 279\n",
      "               one                    103\n",
      "mitsubishi     andere                  99\n",
      "               carisma                 61\n",
      "               colt                   120\n",
      "               galant                  27\n",
      "               lancer                  25\n",
      "               outlander               21\n",
      "               pajero                  28\n",
      "nissan         almera                 101\n",
      "               andere                 123\n",
      "               juke                    13\n",
      "               micra                  257\n",
      "               navara                  21\n",
      "               note                    21\n",
      "               primera                 83\n",
      "               qashqai                 72\n",
      "               x_trail                 35\n",
      "opel           agila                   62\n",
      "               andere                 157\n",
      "               antara                  22\n",
      "               astra                 1454\n",
      "               calibra                 26\n",
      "               combo                   56\n",
      "               corsa                 1735\n",
      "               insignia                88\n",
      "               kadett                  53\n",
      "               meriva                 147\n",
      "               omega                  202\n",
      "               signum                  69\n",
      "               tigra                   96\n",
      "               vectra                 574\n",
      "               vivaro                  57\n",
      "               zafira                 423\n",
      "peugeot        1_reihe                159\n",
      "               2_reihe                621\n",
      "               3_reihe                326\n",
      "               4_reihe                 75\n",
      "               5_reihe                 14\n",
      "               andere                 151\n",
      "porsche        911                    143\n",
      "               andere                  48\n",
      "               boxster                 48\n",
      "               cayenne                 49\n",
      "renault        andere                 122\n",
      "               clio                   509\n",
      "               espace                  91\n",
      "               kangoo                 121\n",
      "               laguna                 190\n",
      "               megane                 362\n",
      "               modus                   32\n",
      "               r19                     10\n",
      "               scenic                 202\n",
      "               twingo                 677\n",
      "rover          andere                  59\n",
      "               discovery                1\n",
      "               freelander               2\n",
      "               rangerover               1\n",
      "saab           900                     16\n",
      "               9000                     6\n",
      "               andere                  55\n",
      "seat           alhambra                42\n",
      "               altea                   46\n",
      "               andere                  31\n",
      "               arosa                  115\n",
      "               cordoba                 45\n",
      "               exeo                     7\n",
      "               ibiza                  356\n",
      "               leon                   210\n",
      "               mii                     10\n",
      "               toledo                  46\n",
      "skoda          andere                  37\n",
      "               citigo                  20\n",
      "               fabia                  286\n",
      "               octavia                309\n",
      "               roomster                37\n",
      "               superb                  51\n",
      "               yeti                    25\n",
      "smart          andere                   9\n",
      "               forfour                 47\n",
      "               fortwo                 574\n",
      "               roadster                32\n",
      "subaru         andere                  10\n",
      "               forester                12\n",
      "               impreza                 27\n",
      "               justy                   19\n",
      "               legacy                  32\n",
      "suzuki         andere                 128\n",
      "               grand                   33\n",
      "               jimny                   34\n",
      "               swift                   87\n",
      "toyota         andere                 111\n",
      "               auris                   34\n",
      "               avensis                 72\n",
      "               aygo                    64\n",
      "               corolla                 92\n",
      "               rav                     48\n",
      "               verso                   48\n",
      "               yaris                  129\n",
      "trabant        601                     56\n",
      "               andere                  10\n",
      "volkswagen     amarok                   7\n",
      "               andere                  98\n",
      "               beetle                 132\n",
      "               bora                   105\n",
      "               caddy                  225\n",
      "               cc                      20\n",
      "               eos                     67\n",
      "               fox                     90\n",
      "               golf                  4024\n",
      "               jetta                   39\n",
      "               kaefer                  63\n",
      "               lupo                   349\n",
      "               passat                1425\n",
      "               phaeton                 32\n",
      "               polo                  1757\n",
      "               scirocco                89\n",
      "               sharan                 233\n",
      "               tiguan                 121\n",
      "               touareg                 98\n",
      "               touran                 468\n",
      "               transporter            704\n",
      "               up                      52\n",
      "volvo          850                     30\n",
      "               andere                  87\n",
      "               c_reihe                 30\n",
      "               s60                     17\n",
      "               v40                     97\n",
      "               v50                     31\n",
      "               v60                      3\n",
      "               v70                     97\n",
      "               xc_reihe                48\n",
      "Name: brand, dtype: int64\n"
     ]
    }
   ],
   "source": [
    "autos_by_brandmodel = autos.groupby([\"brand\", \"model\"])[\"brand\"].count()\n",
    "pd.set_option('display.max_rows', 291) #used to force Jupyter notebook to show all the values\n",
    "print(autos_by_brandmodel)"
   ]
  },
  {
   "cell_type": "code",
   "execution_count": 51,
   "metadata": {},
   "outputs": [
    {
     "name": "stdout",
     "output_type": "stream",
     "text": [
      "brand          model             \n",
      "ford           b_max                    1\n",
      "rover          rangerover               1\n",
      "bmw            i3                       1\n",
      "rover          discovery                1\n",
      "audi           200                      1\n",
      "rover          freelander               2\n",
      "lada           kalina                   2\n",
      "lancia         kappa                    2\n",
      "dacia          andere                   2\n",
      "volvo          v60                      3\n",
      "daihatsu       charade                  3\n",
      "               materia                  4\n",
      "land_rover     andere                   4\n",
      "lada           samara                   4\n",
      "fiat           croma                    5\n",
      "land_rover     range_rover_evoque       5\n",
      "alfa_romeo     145                      5\n",
      "dacia          lodgy                    5\n",
      "chrysler       crossfire                6\n",
      "lancia         delta                    6\n",
      "saab           9000                     6\n",
      "volkswagen     amarok                   7\n",
      "seat           exeo                     7\n",
      "lada           andere                   8\n",
      "daewoo         nubira                   8\n",
      "smart          andere                   9\n",
      "audi           90                       9\n",
      "land_rover     range_rover              9\n",
      "daihatsu       move                    10\n",
      "seat           mii                     10\n",
      "lancia         lybra                   10\n",
      "daewoo         andere                  10\n",
      "trabant        andere                  10\n",
      "renault        r19                     10\n",
      "daihatsu       terios                  10\n",
      "mazda          1_reihe                 10\n",
      "subaru         andere                  10\n",
      "lancia         andere                  11\n",
      "daihatsu       sirion                  12\n",
      "chrysler       300c                    12\n",
      "daewoo         lanos                   12\n",
      "subaru         forester                12\n",
      "land_rover     range_rover_sport       12\n",
      "mercedes_benz  gl                      12\n",
      "mini           andere                  13\n",
      "chrysler       grand                   13\n",
      "land_rover     discovery               13\n",
      "nissan         juke                    13\n",
      "jaguar         s_type                  14\n",
      "peugeot        5_reihe                 14\n",
      "lada           niva                    15\n",
      "mazda          cx_reihe                15\n",
      "jeep           andere                  16\n",
      "saab           900                     16\n",
      "volvo          s60                     17\n",
      "daihatsu       andere                  17\n",
      "daewoo         kalos                   18\n",
      "subaru         justy                   19\n",
      "skoda          citigo                  20\n",
      "volkswagen     cc                      20\n",
      "mitsubishi     outlander               21\n",
      "jeep           cherokee                21\n",
      "nissan         note                    21\n",
      "               navara                  21\n",
      "jaguar         x_type                  22\n",
      "opel           antara                  22\n",
      "chevrolet      aveo                    22\n",
      "land_rover     defender                23\n",
      "mazda          rx_reihe                24\n",
      "jeep           wrangler                24\n",
      "mitsubishi     lancer                  25\n",
      "mercedes_benz  v_klasse                25\n",
      "hyundai        tucson                  25\n",
      "lancia         ypsilon                 25\n",
      "chevrolet      captiva                 25\n",
      "skoda          yeti                    25\n",
      "mercedes_benz  g_klasse                25\n",
      "daewoo         matiz                   25\n",
      "opel           calibra                 26\n",
      "chevrolet      spark                   26\n",
      "subaru         impreza                 27\n",
      "mini           clubman                 27\n",
      "mitsubishi     galant                  27\n",
      "audi           q3                      28\n",
      "mitsubishi     pajero                  28\n",
      "dacia          duster                  29\n",
      "volvo          c_reihe                 30\n",
      "mercedes_benz  glk                     30\n",
      "volvo          850                     30\n",
      "               v50                     31\n",
      "seat           andere                  31\n",
      "smart          roadster                32\n",
      "land_rover     freelander              32\n",
      "volkswagen     phaeton                 32\n",
      "subaru         legacy                  32\n",
      "kia            carnival                32\n",
      "renault        modus                   32\n",
      "bmw            6er                     32\n",
      "suzuki         grand                   33\n",
      "ford           fusion                  33\n",
      "alfa_romeo     spider                  33\n",
      "suzuki         jimny                   34\n",
      "alfa_romeo     159                     34\n",
      "toyota         auris                   34\n",
      "chevrolet      matiz                   35\n",
      "nissan         x_trail                 35\n",
      "chrysler       ptcruiser               36\n",
      "honda          jazz                    37\n",
      "skoda          roomster                37\n",
      "               andere                  37\n",
      "kia            ceed                    38\n",
      "volkswagen     jetta                   39\n",
      "jaguar         andere                  39\n",
      "mercedes_benz  cl                      41\n",
      "kia            rio                     42\n",
      "bmw            andere                  42\n",
      "ford           kuga                    42\n",
      "seat           alhambra                42\n",
      "audi           q7                      42\n",
      "dacia          logan                   43\n",
      "honda          accord                  43\n",
      "jeep           grand                   43\n",
      "mazda          5_reihe                 44\n",
      "seat           cordoba                 45\n",
      "audi           a2                      46\n",
      "seat           altea                   46\n",
      "               toledo                  46\n",
      "kia            picanto                 47\n",
      "fiat           doblo                   47\n",
      "dacia          sandero                 47\n",
      "bmw            m_reihe                 47\n",
      "smart          forfour                 47\n",
      "toyota         verso                   48\n",
      "               rav                     48\n",
      "porsche        boxster                 48\n",
      "               andere                  48\n",
      "volvo          xc_reihe                48\n",
      "hyundai        santa                   48\n",
      "fiat           bravo                   48\n",
      "porsche        cayenne                 49\n",
      "chrysler       voyager                 50\n",
      "hyundai        getz                    51\n",
      "skoda          superb                  51\n",
      "chrysler       andere                  52\n",
      "volkswagen     up                      52\n",
      "honda          andere                  53\n",
      "kia            sportage                53\n",
      "opel           kadett                  53\n",
      "ford           s_max                   54\n",
      "honda          cr_reihe                54\n",
      "kia            sorento                 55\n",
      "saab           andere                  55\n",
      "opel           combo                   56\n",
      "citroen        c2                      56\n",
      "trabant        601                     56\n",
      "opel           vivaro                  57\n",
      "ford           mustang                 57\n",
      "citroen        c1                      58\n",
      "rover          andere                  59\n",
      "fiat           ducato                  60\n",
      "audi           100                     60\n",
      "mitsubishi     carisma                 61\n",
      "alfa_romeo     andere                  61\n",
      "audi           q5                      62\n",
      "opel           agila                   62\n",
      "volkswagen     kaefer                  63\n",
      "toyota         aygo                    64\n",
      "mercedes_benz  viano                   64\n",
      "citroen        c4                      64\n",
      "volkswagen     eos                     67\n",
      "opel           signum                  69\n",
      "kia            andere                  69\n",
      "daihatsu       cuore                   69\n",
      "citroen        c3                      70\n",
      "nissan         qashqai                 72\n",
      "toyota         avensis                 72\n",
      "citroen        c5                      74\n",
      "peugeot        4_reihe                 75\n",
      "audi           a8                      75\n",
      "fiat           stilo                   81\n",
      "ford           c_max                   83\n",
      "nissan         primera                 83\n",
      "fiat           seicento                84\n",
      "audi           a1                      84\n",
      "alfa_romeo     147                     85\n",
      "suzuki         swift                   87\n",
      "volvo          andere                  87\n",
      "opel           insignia                88\n",
      "volkswagen     scirocco                89\n",
      "fiat           panda                   90\n",
      "volkswagen     fox                     90\n",
      "renault        espace                  91\n",
      "toyota         corolla                 92\n",
      "alfa_romeo     156                     93\n",
      "opel           tigra                   96\n",
      "volvo          v40                     97\n",
      "               v70                     97\n",
      "volkswagen     touareg                 98\n",
      "               andere                  98\n",
      "mitsubishi     andere                  99\n",
      "nissan         almera                 101\n",
      "mercedes_benz  sl                     102\n",
      "mini           one                    103\n",
      "mercedes_benz  sprinter               103\n",
      "volkswagen     bora                   105\n",
      "citroen        berlingo               106\n",
      "ford           transit                108\n",
      "toyota         andere                 111\n",
      "seat           arosa                  115\n",
      "ford           escort                 118\n",
      "mazda          mx_reihe               119\n",
      "mitsubishi     colt                   120\n",
      "bmw            z_reihe                121\n",
      "volkswagen     tiguan                 121\n",
      "renault        kangoo                 121\n",
      "               andere                 122\n",
      "nissan         andere                 123\n",
      "fiat           500                    123\n",
      "mercedes_benz  b_klasse               126\n",
      "               vito                   127\n",
      "audi           a5                     127\n",
      "suzuki         andere                 128\n",
      "toyota         yaris                  129\n",
      "volkswagen     beetle                 132\n",
      "bmw            7er                    135\n",
      "mercedes_benz  s_klasse               135\n",
      "porsche        911                    143\n",
      "mazda          andere                 146\n",
      "opel           meriva                 147\n",
      "hyundai        andere                 148\n",
      "audi           tt                     149\n",
      "peugeot        andere                 151\n",
      "chevrolet      andere                 154\n",
      "mercedes_benz  m_klasse               154\n",
      "opel           andere                 157\n",
      "peugeot        1_reihe                159\n",
      "mazda          6_reihe                167\n",
      "mercedes_benz  slk                    172\n",
      "ford           galaxy                 173\n",
      "hyundai        i_reihe                179\n",
      "mazda          3_reihe                182\n",
      "honda          civic                  186\n",
      "renault        laguna                 190\n",
      "ford           andere                 201\n",
      "renault        scenic                 202\n",
      "opel           omega                  202\n",
      "seat           leon                   210\n",
      "audi           80                     218\n",
      "               andere                 220\n",
      "volkswagen     caddy                  225\n",
      "               sharan                 233\n",
      "citroen        andere                 238\n",
      "fiat           andere                 243\n",
      "mercedes_benz  clk                    255\n",
      "nissan         micra                  257\n",
      "mini           cooper                 279\n",
      "skoda          fabia                  286\n",
      "bmw            x_reihe                302\n",
      "skoda          octavia                309\n",
      "peugeot        3_reihe                326\n",
      "volkswagen     lupo                   349\n",
      "seat           ibiza                  356\n",
      "renault        megane                 362\n",
      "ford           ka                     370\n",
      "opel           zafira                 423\n",
      "mercedes_benz  andere                 446\n",
      "fiat           punto                  458\n",
      "volkswagen     touran                 468\n",
      "ford           mondeo                 496\n",
      "renault        clio                   509\n",
      "bmw            1er                    538\n",
      "smart          fortwo                 574\n",
      "opel           vectra                 574\n",
      "mercedes_benz  a_klasse               588\n",
      "peugeot        2_reihe                621\n",
      "renault        twingo                 677\n",
      "volkswagen     transporter            704\n",
      "ford           fiesta                 769\n",
      "               focus                  811\n",
      "audi           a6                     835\n",
      "               a3                     882\n",
      "mercedes_benz  e_klasse              1001\n",
      "               c_klasse              1172\n",
      "bmw            5er                   1183\n",
      "audi           a4                    1291\n",
      "volkswagen     passat                1425\n",
      "opel           astra                 1454\n",
      "               corsa                 1735\n",
      "volkswagen     polo                  1757\n",
      "bmw            3er                   2761\n",
      "volkswagen     golf                  4024\n",
      "Name: brand, dtype: int64\n"
     ]
    }
   ],
   "source": [
    "autos_by_brandmodel_max = autos_by_brandmodel.sort_values()\n",
    "print(autos_by_brandmodel_max)"
   ]
  },
  {
   "cell_type": "markdown",
   "metadata": {},
   "source": [
    "We show 2 different views:\n",
    "\n",
    "1. The first one shows Johann what are the counts by brand and model categorizing everything by brand.\n",
    "2. The second one shows the combinations of brands and models from less common to more common \n",
    "\n",
    "With this information, Johann can see clearly what is out there and how can he position his store."
   ]
  },
  {
   "cell_type": "markdown",
   "metadata": {},
   "source": [
    "# 4. Final Conclusions"
   ]
  },
  {
   "cell_type": "markdown",
   "metadata": {},
   "source": [
    "To sum up, we want to give Johann a helicopter view of the findings of this report. These findings are:\n",
    "\n",
    "1. This database is based in 2016. Johann might need to keep current inflation vs 2016's inflation in mind when taking points from this analysis\n",
    "\n",
    "\n",
    "2. The last seen activity is very recent, which indicates that, at least in 2016, eBay was already a powerful driver of car sales. Johann will have to assume that there is still strong online competition\n",
    "\n",
    "\n",
    "3. The vast majority of cars with odometer values are concentrated on mileages over 150.000 KM\n",
    "\n",
    "\n",
    "4. There is a concentration of crawled ads on the March 20s dates, which suggests Easter is a high selling season\n",
    "\n",
    "\n",
    "5. Most of the cars in the database have a registration year in the early 2000s\n",
    "\n",
    "\n",
    "6. Mid-end brands stay consistently on the 2.500 to 3.500 range, and high-end brands stay consistently over 8.000 euros\n",
    "\n",
    "\n",
    "7. High-end brands have the most mileage, however they keep the highest price. This is an indicator of slow devaluation\n",
    "\n",
    "\n",
    "8. Range Rovers seem to be the rarest brand and model combinations, and the most common ones are, by far, Volkswagen Golf and BMW 3er\n",
    "\n",
    "\n",
    "These are all key insights for Johann to have an starting point on his second-hand car business and we hope it helps me position himself more competitively. Wishing you all the best, Johann."
   ]
  }
 ],
 "metadata": {
  "kernelspec": {
   "display_name": "Python 3",
   "language": "python",
   "name": "python3"
  },
  "language_info": {
   "codemirror_mode": {
    "name": "ipython",
    "version": 3
   },
   "file_extension": ".py",
   "mimetype": "text/x-python",
   "name": "python",
   "nbconvert_exporter": "python",
   "pygments_lexer": "ipython3",
   "version": "3.8.2"
  }
 },
 "nbformat": 4,
 "nbformat_minor": 2
}
